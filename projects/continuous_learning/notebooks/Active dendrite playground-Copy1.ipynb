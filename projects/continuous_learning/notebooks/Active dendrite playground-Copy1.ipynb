{
 "cells": [
  {
   "cell_type": "code",
   "execution_count": 14,
   "metadata": {},
   "outputs": [
    {
     "name": "stdout",
     "output_type": "stream",
     "text": [
      "The autoreload extension is already loaded. To reload it, use:\n",
      "  %reload_ext autoreload\n"
     ]
    }
   ],
   "source": [
    "%load_ext autoreload\n",
    "%autoreload 2\n",
    "\n",
    "import numpy as np\n",
    "import sys\n",
    "sys.path.append(\"../\")\n",
    "\n",
    "import torch\n",
    "from torch import nn\n",
    "import torch.nn.functional as F\n",
    "\n",
    "from cont_speech_experiment import ContinuousSpeechExperiment, ClasswiseDataset\n",
    "from nupic.research.support import parse_config\n",
    "# from nupic.research.frameworks.pytorch.models.le_sparse_net import (\n",
    "#     LeSparseNet\n",
    "# )\n",
    "from nupic.research.frameworks.continuous_learning.utils import clear_labels\n",
    "\n",
    "from sigopt import Connection\n",
    "from sigopt_config import sigopt_config as CONFIG\n",
    "import os\n",
    "\n",
    "from nupic.research.frameworks.pytorch.model_utils import evaluate_model\n",
    "from nupic.research.frameworks.continuous_learning.dendrite_layers import (\n",
    "    DendriteLayer, DendriteInput, DendriteOutput\n",
    ")\n",
    "# from nupic.research.frameworks.continuous_learning.utils import ADA_fun\n",
    "\n",
    "import matplotlib.pyplot as plt\n",
    "import seaborn as sns\n",
    "\n",
    "%matplotlib inline"
   ]
  },
  {
   "cell_type": "code",
   "execution_count": 6,
   "metadata": {},
   "outputs": [],
   "source": [
  },
  {
   "cell_type": "code",
   "execution_count": 16,
   "metadata": {},
   "outputs": [
    {
     "name": "stdout",
     "output_type": "stream",
     "text": [
      "Created experiment: https://app.sigopt.com/experiment/209187\n"
     ]
    }
   ],
   "source": [
    "conn = Connection()\n",
    "experiment = conn.experiments().create(**CONFIG)\n",
    "print(\"Created experiment: https://app.sigopt.com/experiment/\" + str(experiment.id))"
   ]
  },
  {
   "cell_type": "code",
   "execution_count": 17,
   "metadata": {},
   "outputs": [
    {
     "name": "stdout",
     "output_type": "stream",
     "text": [
      "Assignments({\n",
      "  \"boost_strength\": 0.21392264317474924,\n",
      "  \"boost_strength_factor\": 0.24371393223223878,\n",
      "  \"cnn1_percent_on\": 0.5320246518885855,\n",
      "  \"cnn1_size\": 92,\n",
      "  \"cnn1_wt_sparsity\": 0.5083408781883139,\n",
      "  \"cnn2_percent_on\": 0.35473340445579765,\n",
      "  \"cnn2_size\": 150,\n",
      "  \"cnn2_wt_sparsity\": 0.25177204638111206,\n",
      "  \"dendrites_per_neuron\": 2,\n",
      "  \"duty_cycle_period\": 2282,\n",
      "  \"learning_rate\": 0.03319281723730321,\n",
      "  \"learning_rate_factor\": 0.40476568247399414,\n",
      "  \"linear1_n\": 472,\n",
      "  \"linear1_percent_on\": 0.6664974904053841,\n",
      "  \"linear1_weight_sparsity\": 0.5260284756459056,\n",
      "  \"linear2_percent_on\": 0.7585269146059209,\n",
      "  \"linear2_weight_sparsity\": 0.7783057443930513,\n",
      "  \"log2_batch_size\": 6,\n",
      "  \"use_batch_norm\": \"True\"\n",
      "})\n"
     ]
    }
   ],
   "source": [
    "suggestion = conn.experiments(experiment.id).suggestions().create()\n",
    "params = suggestion.assignments\n",
    "print(params)"
   ]
  },
  {
   "cell_type": "code",
   "execution_count": 12,
   "metadata": {},
   "outputs": [],
   "source": [
    "sig_bool_params = {\"True\": True, \"False\": False}"
   ]
  },
  {
   "cell_type": "code",
   "execution_count": null,
   "metadata": {},
   "outputs": [
    {
     "name": "stdout",
     "output_type": "stream",
     "text": [
      "Creating optimizer with learning rate= 0.08057419916584674\n",
      "Creating optimizer with learning rate= 0.0917853295849233\n",
      "Creating optimizer with learning rate= 0.0552294392763782\n",
      "Creating optimizer with learning rate= 0.1356897541935704\n",
      "Creating optimizer with learning rate= 0.15668840703055956\n",
      "Creating optimizer with learning rate= 0.0683829047781319\n",
      "Creating optimizer with learning rate= 0.06636446965023633\n",
      "Creating optimizer with learning rate= 0.018964828597297253\n",
      "Creating optimizer with learning rate= 0.14068200568928724\n",
      "Creating optimizer with learning rate= 0.1064251375005027\n",
      "Creating optimizer with learning rate= 0.0037098598296963527\n",
      "Creating optimizer with learning rate= 0.18133281829120082\n",
      "Creating optimizer with learning rate= 0.153079396947651\n",
      "Creating optimizer with learning rate= 0.009623175842047402\n",
      "Creating optimizer with learning rate= 0.03724771591410274\n",
      "Creating optimizer with learning rate= 0.06128948384765718\n",
      "Creating optimizer with learning rate= 0.16317527263689854\n",
      "Creating optimizer with learning rate= 0.16961449762332947\n",
      "Creating optimizer with learning rate= 0.19324572021727046\n",
      "Creating optimizer with learning rate= 0.18349110292349513\n",
      "Creating optimizer with learning rate= 0.09633467128697332\n",
      "Creating optimizer with learning rate= 0.12237739592334285\n",
      "Creating optimizer with learning rate= 0.04396968547355629\n",
      "Creating optimizer with learning rate= 0.1491986258716491\n",
      "Creating optimizer with learning rate= 0.12614816752433522\n",
      "Creating optimizer with learning rate= 0.13105483663565987\n",
      "Creating optimizer with learning rate= 0.11492882814990925\n",
      "Creating optimizer with learning rate= 0.012862247841696085\n",
      "Creating optimizer with learning rate= 0.07796809995885808\n",
      "Creating optimizer with learning rate= 0.10271857848361231\n",
      "Creating optimizer with learning rate= 0.08615766904979627\n",
      "Creating optimizer with learning rate= 0.06231907009674151\n",
      "Creating optimizer with learning rate= 0.1931363757833343\n",
      "Creating optimizer with learning rate= 0.19215700894295198\n",
      "Creating optimizer with learning rate= 0.17366611319258451\n",
      "Creating optimizer with learning rate= 0.166197074345868\n",
      "Creating optimizer with learning rate= 0.07738814020162511\n",
      "Creating optimizer with learning rate= 0.08620946215865344\n",
      "Creating optimizer with learning rate= 0.07089931285380574\n",
      "Creating optimizer with learning rate= 0.11438032615872684\n",
      "Creating optimizer with learning rate= 0.1346069818106307\n",
      "Creating optimizer with learning rate= 0.058573065498430436\n",
      "Creating optimizer with learning rate= 0.05853897943299242\n",
      "Creating optimizer with learning rate= 0.1205962352395826\n",
      "Creating optimizer with learning rate= 0.15954367723479554\n",
      "Creating optimizer with learning rate= 0.038051576138399504\n",
      "Creating optimizer with learning rate= 0.0798205438770622\n",
      "Creating optimizer with learning rate= 0.14158724618976448\n",
      "Creating optimizer with learning rate= 0.1922413383020897\n",
      "Creating optimizer with learning rate= 0.15003933727499172\n",
      "Creating optimizer with learning rate= 0.15988574966789149\n",
      "Creating optimizer with learning rate= 0.11419667708879369\n",
      "Creating optimizer with learning rate= 0.1935671274927952\n",
      "Creating optimizer with learning rate= 0.16045466864644203\n",
      "Creating optimizer with learning rate= 0.16040593902976347\n",
      "Creating optimizer with learning rate= 0.06704137044039386\n",
      "Creating optimizer with learning rate= 0.12870534366586286\n",
      "Creating optimizer with learning rate= 0.13065920541829015\n",
      "Creating optimizer with learning rate= 0.12055847930696093\n",
      "Creating optimizer with learning rate= 0.19788734763822416\n",
      "Creating optimizer with learning rate= 0.06302015753531134\n",
      "Creating optimizer with learning rate= 0.06767874337802364\n",
      "Creating optimizer with learning rate= 0.07520987871813932\n",
      "Creating optimizer with learning rate= 0.14476872563191073\n",
      "Creating optimizer with learning rate= 0.07002654757136091\n",
      "Creating optimizer with learning rate= 0.11207427849973103\n",
      "Creating optimizer with learning rate= 0.08256033787808952\n",
      "Creating optimizer with learning rate= 0.035163754829477846\n",
      "Creating optimizer with learning rate= 0.06767335969704104\n",
      "Creating optimizer with learning rate= 0.03636018807332294\n",
      "Creating optimizer with learning rate= 0.13865160744602373\n",
      "Creating optimizer with learning rate= 0.10198500199207053\n",
      "Creating optimizer with learning rate= 0.1287991529986447\n",
      "Creating optimizer with learning rate= 0.07581340552236593\n",
      "Creating optimizer with learning rate= 0.10936506266903873\n",
      "Creating optimizer with learning rate= 0.1246243103744577\n",
      "Creating optimizer with learning rate= 0.12340620722010154\n",
      "Creating optimizer with learning rate= 0.030248213800209815\n",
      "Creating optimizer with learning rate= 0.06889872579113261\n",
      "Creating optimizer with learning rate= 0.16211589700246296\n",
      "Creating optimizer with learning rate= 0.14708604917070348\n",
      "Creating optimizer with learning rate= 0.19299956425939307\n",
      "Creating optimizer with learning rate= 0.15430820229163844\n",
      "Creating optimizer with learning rate= 0.15266449790956949\n",
      "Creating optimizer with learning rate= 0.15374447429623625\n",
      "Creating optimizer with learning rate= 0.14044294106696878\n",
      "Creating optimizer with learning rate= 0.14479224574300437\n"
     ]
    }
   ],
   "source": [
    "config_file = \"../experiments.cfg\"\n",
    "with open(config_file) as cf:\n",
    "    config_init = parse_config(cf)\n",
    "\n",
    "fcs = []\n",
    "aucs = []\n",
    "fc_vars = []\n",
    "\n",
    "exp = \"sparseCNN2\"\n",
    "\n",
    "for i in range(experiment.observation_budget - int(experiment.progress.observation_budget_consumed)):\n",
    "    suggestion = conn.experiments(experiment.id).suggestions().create()\n",
    "    params = suggestion.assignments\n",
    "    \n",
    "    config = config_init[exp]\n",
    "    config[\"name\"] = exp\n",
    "    config[\"seed\"] = np.random.randint(0,200)\n",
    "    config[\"cnn_out_channels\"] = (params[\"cnn1_size\"], params[\"cnn2_size\"])\n",
    "    config[\"cnn_percent_on\"] = (params[\"cnn1_percent_on\"], params[\"cnn2_percent_on\"])\n",
    "    config[\"cnn_weight_sparsity\"] = (params[\"cnn1_wt_sparsity\"], params[\"cnn2_wt_sparsity\"])\n",
    "                                \n",
    "\n",
    "    config[\"linear_n\"] = (params[\"linear1_n\"],11)\n",
    "    config[\"linear_percent_on\"] = (params[\"linear1_percent_on\"], params[\"linear2_percent_on\"])\n",
    "    config[\"weight_sparsity\"] = (params[\"linear1_weight_sparsity\"], params[\"linear2_weight_sparsity\"])\n",
    "\n",
    "    config[\"use_batch_norm\"] = sig_bool_params[params[\"use_batch_norm\"]]\n",
    "    config[\"batch_size\"] = int(2**params[\"log2_batch_size\"])\n",
    "    config[\"boost_strength\"] = params[\"boost_strength\"]\n",
    "    config[\"boost_strength_factor\"] = params[\"boost_strength_factor\"]\n",
    "    config[\"duty_cycle_period\"] = params[\"duty_cycle_period\"]\n",
    "    \n",
    "    config[\"learning_rate\"] = params[\"learning_rate\"]\n",
    "    config[\"learning_rate_factor\"] = params[\"learning_rate_factor\"]\n",
    "    config[\"use_dendrites\"] = True\n",
    "    config[\"dendrites_per_cell\"] = params[\"dendrites_per_neuron\"]\n",
    "\n",
    "    cs_experiment = ContinuousSpeechExperiment(config)\n",
    "    \n",
    "    cs_experiment.train_entire_dataset(i)\n",
    "    \n",
    "#     fc = cs_experiment.get_forgetting_curve()\n",
    "#     fcs.append(fc)\n",
    "#     auc = cs_experiment.get_auc()\n",
    "#     aucs.append(auc)\n",
    "\n",
    "#     fc_var = np.nanvar(fc)\n",
    "#     opt_metric = auc / fc_var\n",
    "    \n",
    "#     fc_vars.append(fc_var)\n",
    "    \n",
    "    auc = cs_experiment.test()[\"mean_accuracy\"]\n",
    "    opt_metric = auc\n",
    "    \n",
    "    aucs.append(auc)\n",
    "    \n",
    "    conn.experiments(experiment.id).observations().create(\n",
    "        suggestion=suggestion.id,\n",
    "        value=opt_metric\n",
    "    )"
   ]
  },
  {
   "cell_type": "code",
   "execution_count": 20,
   "metadata": {},
   "outputs": [],
   "source": [
    "a = np.load(\"../saved_data/0_75.pdf.npy\")"
   ]
  },
  {
   "cell_type": "code",
   "execution_count": 32,
   "metadata": {},
   "outputs": [
    {
     "data": {
      "text/plain": [
       "712.7041888888889"
      ]
     },
     "execution_count": 32,
     "metadata": {},
     "output_type": "execute_result"
    }
   ],
   "source": [
    "np.nanvar(a)"
   ]
  },
  {
   "cell_type": "code",
   "execution_count": 6,
   "metadata": {},
   "outputs": [
    {
     "data": {
      "text/plain": [
       "LeSparseNet(\n",
       "  (cnn1_cnn): SparseWeights2d(\n",
       "    weight_sparsity=0.3\n",
       "    (module): Conv2d(1, 64, kernel_size=(5, 5), stride=(1, 1))\n",
       "  )\n",
       "  (cnn1_bn): BatchNorm2d(64, eps=1e-05, momentum=0.1, affine=False, track_running_stats=True)\n",
       "  (cnn1_kwinner): KWinners2d(channels=64, local=False, n=50176, percent_on=0.25, boost_strength=1.2149999141693115, boost_strength_factor=0.9, k_inference_factor=1.0, duty_cycle_period=1000)\n",
       "  (cnn1_maxpool): MaxPool2d(kernel_size=2, stride=2, padding=0, dilation=1, ceil_mode=False)\n",
       "  (cnn2_cnn): SparseWeights2d(\n",
       "    weight_sparsity=0.2\n",
       "    (module): Conv2d(64, 64, kernel_size=(5, 5), stride=(1, 1))\n",
       "  )\n",
       "  (cnn2_bn): BatchNorm2d(64, eps=1e-05, momentum=0.1, affine=False, track_running_stats=True)\n",
       "  (cnn2_kwinner): KWinners2d(channels=64, local=False, n=6400, percent_on=0.125, boost_strength=1.2149999141693115, boost_strength_factor=0.9, k_inference_factor=1.0, duty_cycle_period=1000)\n",
       "  (cnn2_maxpool): MaxPool2d(kernel_size=2, stride=2, padding=0, dilation=1, ceil_mode=False)\n",
       "  (flatten): Flatten()\n",
       "  (dendrites1): DendriteLayer(\n",
       "    (input): DendriteInput(\n",
       "      (linear): SparseWeights(\n",
       "        weight_sparsity=0.2\n",
       "        (module): Linear(in_features=1600, out_features=10240, bias=True)\n",
       "      )\n",
       "    )\n",
       "    (output): DendriteOutput()\n",
       "    (act_fun): DKWinners(n=10240, dpc=5, boost_strength=1.5, boost_strength_factor=0.9, k_inference_factor=1.0, duty_cycle_period=1000)\n",
       "  )\n",
       "  (dendrites1_bn): BatchNorm1d(2048, eps=1e-05, momentum=0.1, affine=False, track_running_stats=True)\n",
       "  (linear1_kwinners): KWinners(n=2048, percent_on=0.1, boost_strength=1.2149999141693115, boost_strength_factor=0.9, k_inference_factor=1.0, duty_cycle_period=1000)\n",
       "  (dendrites2): DendriteLayer(\n",
       "    (input): DendriteInput(\n",
       "      (linear): SparseWeights(\n",
       "        weight_sparsity=0.2\n",
       "        (module): Linear(in_features=2048, out_features=55, bias=True)\n",
       "      )\n",
       "    )\n",
       "    (output): DendriteOutput()\n",
       "    (act_fun): DKWinners(n=55, dpc=5, boost_strength=1.5, boost_strength_factor=0.9, k_inference_factor=1.0, duty_cycle_period=1000)\n",
       "  )\n",
       "  (dendrites2_bn): BatchNorm1d(11, eps=1e-05, momentum=0.1, affine=False, track_running_stats=True)\n",
       "  (linear2_kwinners): KWinners(n=11, percent_on=0.2, boost_strength=1.2149999141693115, boost_strength_factor=0.9, k_inference_factor=1.0, duty_cycle_period=1000)\n",
       "  (softmax): LogSoftmax()\n",
       ")"
      ]
     },
     "execution_count": 6,
     "metadata": {},
     "output_type": "execute_result"
    }
   ],
   "source": [
    "experiment.model"
   ]
  },
  {
   "cell_type": "code",
   "execution_count": null,
   "metadata": {},
   "outputs": [],
   "source": [
    "experiment.model()"
   ]
  },
  {
   "cell_type": "code",
   "execution_count": 8,
   "metadata": {},
   "outputs": [
    {
     "data": {
      "text/plain": [
       "tensor([[-2.3979, -2.3979, -2.3979, -2.3979, -2.3979, -2.3979, -2.3979, -2.3979,\n",
       "         -2.3979, -2.3979, -2.3979],\n",
       "        [-2.3979, -2.3979, -2.3979, -2.3979, -2.3979, -2.3979, -2.3979, -2.3979,\n",
       "         -2.3979, -2.3979, -2.3979],\n",
       "        [-2.3979, -2.3979, -2.3979, -2.3979, -2.3979, -2.3979, -2.3979, -2.3979,\n",
       "         -2.3979, -2.3979, -2.3979],\n",
       "        [-2.3979, -2.3979, -2.3979, -2.3979, -2.3979, -2.3979, -2.3979, -2.3979,\n",
       "         -2.3979, -2.3979, -2.3979],\n",
       "        [-2.3979, -2.3979, -2.3979, -2.3979, -2.3979, -2.3979, -2.3979, -2.3979,\n",
       "         -2.3979, -2.3979, -2.3979],\n",
       "        [-2.3979, -2.3979, -2.3979, -2.3979, -2.3979, -2.3979, -2.3979, -2.3979,\n",
       "         -2.3979, -2.3979, -2.3979],\n",
       "        [-2.3979, -2.3979, -2.3979, -2.3979, -2.3979, -2.3979, -2.3979, -2.3979,\n",
       "         -2.3979, -2.3979, -2.3979],\n",
       "        [-2.3979, -2.3979, -2.3979, -2.3979, -2.3979, -2.3979, -2.3979, -2.3979,\n",
       "         -2.3979, -2.3979, -2.3979],\n",
       "        [-2.3979, -2.3979, -2.3979, -2.3979, -2.3979, -2.3979, -2.3979, -2.3979,\n",
       "         -2.3979, -2.3979, -2.3979],\n",
       "        [-2.3979, -2.3979, -2.3979, -2.3979, -2.3979, -2.3979, -2.3979, -2.3979,\n",
       "         -2.3979, -2.3979, -2.3979],\n",
       "        [-2.3979, -2.3979, -2.3979, -2.3979, -2.3979, -2.3979, -2.3979, -2.3979,\n",
       "         -2.3979, -2.3979, -2.3979],\n",
       "        [-2.3979, -2.3979, -2.3979, -2.3979, -2.3979, -2.3979, -2.3979, -2.3979,\n",
       "         -2.3979, -2.3979, -2.3979],\n",
       "        [-2.3979, -2.3979, -2.3979, -2.3979, -2.3979, -2.3979, -2.3979, -2.3979,\n",
       "         -2.3979, -2.3979, -2.3979],\n",
       "        [-2.3979, -2.3979, -2.3979, -2.3979, -2.3979, -2.3979, -2.3979, -2.3979,\n",
       "         -2.3979, -2.3979, -2.3979],\n",
       "        [-2.3979, -2.3979, -2.3979, -2.3979, -2.3979, -2.3979, -2.3979, -2.3979,\n",
       "         -2.3979, -2.3979, -2.3979],\n",
       "        [-2.3979, -2.3979, -2.3979, -2.3979, -2.3979, -2.3979, -2.3979, -2.3979,\n",
       "         -2.3979, -2.3979, -2.3979],\n",
       "        [-2.3979, -2.3979, -2.3979, -2.3979, -2.3979, -2.3979, -2.3979, -2.3979,\n",
       "         -2.3979, -2.3979, -2.3979],\n",
       "        [-2.3979, -2.3979, -2.3979, -2.3979, -2.3979, -2.3979, -2.3979, -2.3979,\n",
       "         -2.3979, -2.3979, -2.3979],\n",
       "        [-2.3979, -2.3979, -2.3979, -2.3979, -2.3979, -2.3979, -2.3979, -2.3979,\n",
       "         -2.3979, -2.3979, -2.3979],\n",
       "        [-2.3979, -2.3979, -2.3979, -2.3979, -2.3979, -2.3979, -2.3979, -2.3979,\n",
       "         -2.3979, -2.3979, -2.3979],\n",
       "        [-2.3979, -2.3979, -2.3979, -2.3979, -2.3979, -2.3979, -2.3979, -2.3979,\n",
       "         -2.3979, -2.3979, -2.3979],\n",
       "        [-2.3979, -2.3979, -2.3979, -2.3979, -2.3979, -2.3979, -2.3979, -2.3979,\n",
       "         -2.3979, -2.3979, -2.3979],\n",
       "        [-2.3979, -2.3979, -2.3979, -2.3979, -2.3979, -2.3979, -2.3979, -2.3979,\n",
       "         -2.3979, -2.3979, -2.3979],\n",
       "        [-2.3979, -2.3979, -2.3979, -2.3979, -2.3979, -2.3979, -2.3979, -2.3979,\n",
       "         -2.3979, -2.3979, -2.3979],\n",
       "        [-2.3979, -2.3979, -2.3979, -2.3979, -2.3979, -2.3979, -2.3979, -2.3979,\n",
       "         -2.3979, -2.3979, -2.3979],\n",
       "        [-2.3979, -2.3979, -2.3979, -2.3979, -2.3979, -2.3979, -2.3979, -2.3979,\n",
       "         -2.3979, -2.3979, -2.3979],\n",
       "        [-2.3979, -2.3979, -2.3979, -2.3979, -2.3979, -2.3979, -2.3979, -2.3979,\n",
       "         -2.3979, -2.3979, -2.3979],\n",
       "        [-2.3979, -2.3979, -2.3979, -2.3979, -2.3979, -2.3979, -2.3979, -2.3979,\n",
       "         -2.3979, -2.3979, -2.3979],\n",
       "        [-2.3979, -2.3979, -2.3979, -2.3979, -2.3979, -2.3979, -2.3979, -2.3979,\n",
       "         -2.3979, -2.3979, -2.3979],\n",
       "        [-2.3979, -2.3979, -2.3979, -2.3979, -2.3979, -2.3979, -2.3979, -2.3979,\n",
       "         -2.3979, -2.3979, -2.3979],\n",
       "        [-2.3979, -2.3979, -2.3979, -2.3979, -2.3979, -2.3979, -2.3979, -2.3979,\n",
       "         -2.3979, -2.3979, -2.3979],\n",
       "        [-2.3979, -2.3979, -2.3979, -2.3979, -2.3979, -2.3979, -2.3979, -2.3979,\n",
       "         -2.3979, -2.3979, -2.3979],\n",
       "        [-2.3979, -2.3979, -2.3979, -2.3979, -2.3979, -2.3979, -2.3979, -2.3979,\n",
       "         -2.3979, -2.3979, -2.3979],\n",
       "        [-2.3979, -2.3979, -2.3979, -2.3979, -2.3979, -2.3979, -2.3979, -2.3979,\n",
       "         -2.3979, -2.3979, -2.3979],\n",
       "        [-2.3979, -2.3979, -2.3979, -2.3979, -2.3979, -2.3979, -2.3979, -2.3979,\n",
       "         -2.3979, -2.3979, -2.3979],\n",
       "        [-2.3979, -2.3979, -2.3979, -2.3979, -2.3979, -2.3979, -2.3979, -2.3979,\n",
       "         -2.3979, -2.3979, -2.3979],\n",
       "        [-2.3979, -2.3979, -2.3979, -2.3979, -2.3979, -2.3979, -2.3979, -2.3979,\n",
       "         -2.3979, -2.3979, -2.3979],\n",
       "        [-2.3979, -2.3979, -2.3979, -2.3979, -2.3979, -2.3979, -2.3979, -2.3979,\n",
       "         -2.3979, -2.3979, -2.3979],\n",
       "        [-2.3979, -2.3979, -2.3979, -2.3979, -2.3979, -2.3979, -2.3979, -2.3979,\n",
       "         -2.3979, -2.3979, -2.3979],\n",
       "        [-2.3979, -2.3979, -2.3979, -2.3979, -2.3979, -2.3979, -2.3979, -2.3979,\n",
       "         -2.3979, -2.3979, -2.3979],\n",
       "        [-2.3979, -2.3979, -2.3979, -2.3979, -2.3979, -2.3979, -2.3979, -2.3979,\n",
       "         -2.3979, -2.3979, -2.3979],\n",
       "        [-2.3979, -2.3979, -2.3979, -2.3979, -2.3979, -2.3979, -2.3979, -2.3979,\n",
       "         -2.3979, -2.3979, -2.3979],\n",
       "        [-2.3979, -2.3979, -2.3979, -2.3979, -2.3979, -2.3979, -2.3979, -2.3979,\n",
       "         -2.3979, -2.3979, -2.3979],\n",
       "        [-2.3979, -2.3979, -2.3979, -2.3979, -2.3979, -2.3979, -2.3979, -2.3979,\n",
       "         -2.3979, -2.3979, -2.3979],\n",
       "        [-2.3979, -2.3979, -2.3979, -2.3979, -2.3979, -2.3979, -2.3979, -2.3979,\n",
       "         -2.3979, -2.3979, -2.3979],\n",
       "        [-2.3979, -2.3979, -2.3979, -2.3979, -2.3979, -2.3979, -2.3979, -2.3979,\n",
       "         -2.3979, -2.3979, -2.3979],\n",
       "        [-2.3979, -2.3979, -2.3979, -2.3979, -2.3979, -2.3979, -2.3979, -2.3979,\n",
       "         -2.3979, -2.3979, -2.3979],\n",
       "        [-2.3979, -2.3979, -2.3979, -2.3979, -2.3979, -2.3979, -2.3979, -2.3979,\n",
       "         -2.3979, -2.3979, -2.3979],\n",
       "        [-2.3979, -2.3979, -2.3979, -2.3979, -2.3979, -2.3979, -2.3979, -2.3979,\n",
       "         -2.3979, -2.3979, -2.3979],\n",
       "        [-2.3979, -2.3979, -2.3979, -2.3979, -2.3979, -2.3979, -2.3979, -2.3979,\n",
       "         -2.3979, -2.3979, -2.3979],\n",
       "        [-2.3979, -2.3979, -2.3979, -2.3979, -2.3979, -2.3979, -2.3979, -2.3979,\n",
       "         -2.3979, -2.3979, -2.3979],\n",
       "        [-2.3979, -2.3979, -2.3979, -2.3979, -2.3979, -2.3979, -2.3979, -2.3979,\n",
       "         -2.3979, -2.3979, -2.3979],\n",
       "        [-2.3979, -2.3979, -2.3979, -2.3979, -2.3979, -2.3979, -2.3979, -2.3979,\n",
       "         -2.3979, -2.3979, -2.3979],\n",
       "        [-2.3979, -2.3979, -2.3979, -2.3979, -2.3979, -2.3979, -2.3979, -2.3979,\n",
       "         -2.3979, -2.3979, -2.3979],\n",
       "        [-2.3979, -2.3979, -2.3979, -2.3979, -2.3979, -2.3979, -2.3979, -2.3979,\n",
       "         -2.3979, -2.3979, -2.3979],\n",
       "        [-2.3979, -2.3979, -2.3979, -2.3979, -2.3979, -2.3979, -2.3979, -2.3979,\n",
       "         -2.3979, -2.3979, -2.3979],\n",
       "        [-2.3979, -2.3979, -2.3979, -2.3979, -2.3979, -2.3979, -2.3979, -2.3979,\n",
       "         -2.3979, -2.3979, -2.3979],\n",
       "        [-2.3979, -2.3979, -2.3979, -2.3979, -2.3979, -2.3979, -2.3979, -2.3979,\n",
       "         -2.3979, -2.3979, -2.3979],\n",
       "        [-2.3979, -2.3979, -2.3979, -2.3979, -2.3979, -2.3979, -2.3979, -2.3979,\n",
       "         -2.3979, -2.3979, -2.3979],\n",
       "        [-2.3979, -2.3979, -2.3979, -2.3979, -2.3979, -2.3979, -2.3979, -2.3979,\n",
       "         -2.3979, -2.3979, -2.3979],\n",
       "        [-2.3979, -2.3979, -2.3979, -2.3979, -2.3979, -2.3979, -2.3979, -2.3979,\n",
       "         -2.3979, -2.3979, -2.3979],\n",
       "        [-2.3979, -2.3979, -2.3979, -2.3979, -2.3979, -2.3979, -2.3979, -2.3979,\n",
       "         -2.3979, -2.3979, -2.3979],\n",
       "        [-2.3979, -2.3979, -2.3979, -2.3979, -2.3979, -2.3979, -2.3979, -2.3979,\n",
       "         -2.3979, -2.3979, -2.3979],\n",
       "        [-2.3979, -2.3979, -2.3979, -2.3979, -2.3979, -2.3979, -2.3979, -2.3979,\n",
       "         -2.3979, -2.3979, -2.3979]], device='cuda:0',\n",
       "       grad_fn=<LogSoftmaxBackward>)"
      ]
     },
     "execution_count": 8,
     "metadata": {},
     "output_type": "execute_result"
    }
   ],
   "source": [
    "loader = experiment.full_train_loader\n",
    "x,y = next(iter(loader))\n",
    "experiment.model(x.cuda())"
   ]
  },
  {
   "cell_type": "code",
   "execution_count": null,
   "metadata": {},
   "outputs": [],
   "source": []
  },
  {
   "cell_type": "code",
   "execution_count": 2,
   "metadata": {},
   "outputs": [
    {
     "name": "stdout",
     "output_type": "stream",
     "text": [
      "Creating optimizer with learning rate= 0.01\n"
     ]
    }
   ],
   "source": [
    "config_file = \"../experiments.cfg\"\n",
    "with open(config_file) as cf:\n",
    "    config_init = parse_config(cf)\n",
    "    \n",
    "cnn_pct_on = (0.25, 0.125) # default\n",
    "cnn_weight_sparsity = (0.3, 0.2) # default\n",
    "\n",
    "cnn_out = (512,512)\n",
    "\n",
    "def adjust_sparsity(layer_size, pct_on):\n",
    "    return max(pct_on/(layer_size/64), 0.02)\n",
    "\n",
    "exp = \"sparseCNN2\"\n",
    "config = config_init[exp]\n",
    "config[\"name\"] = exp\n",
    "config[\"seed\"] = np.random.randint(0,200)\n",
    "config[\"cnn_out_channels\"] = (cnn_out[0], cnn_out[1])\n",
    "config[\"cnn_percent_on\"] = (adjust_sparsity(cnn_out[0],cnn_pct_on[0]), adjust_sparsity(cnn_out[1], cnn_pct_on[1]))\n",
    "config[\"cnn_weight_sparsity\"] = (adjust_sparsity(cnn_out[0],cnn_weight_sparsity[0]),\n",
    "                                 adjust_sparsity(cnn_out[1],cnn_weight_sparsity[1]))\n",
    "config[\"batch_size\"] = 32\n",
    "\n",
    "config[\"boost_strength\"] = 0.0\n",
    "config[\"boost_strength_factor\"] = 0.0\n",
    "config[\"duty_cycle_period\"] = 1000000\n",
    "\n",
    "experiment = ContinuousSpeechExperiment(config)\n",
    "experiment.boost_per_epoch(True)"
   ]
  },
  {
   "cell_type": "code",
   "execution_count": 237,
   "metadata": {},
   "outputs": [
    {
     "data": {
      "text/plain": [
       "tensor([[0., 0., 0.],\n",
       "        [0., 0., 0.]])"
      ]
     },
     "execution_count": 237,
     "metadata": {},
     "output_type": "execute_result"
    }
   ],
   "source": [
    "torch.zeros(2,3)"
   ]
  },
  {
   "cell_type": "code",
   "execution_count": 62,
   "metadata": {},
   "outputs": [
    {
     "name": "stdout",
     "output_type": "stream",
     "text": [
      "0\n",
      "1\n",
      "2\n",
      "3\n",
      "4\n"
     ]
    }
   ],
   "source": [
    "train_inds = np.arange(1,11).reshape(5,2)\n",
    "layer_type = \"kwinner\"\n",
    "dcs = []\n",
    "for j in range(len(train_inds)):\n",
    "    print(j)\n",
    "    experiment.train(1,train_inds[j],\n",
    "                    freeze_output=True,\n",
    "                    layer_type=layer_type,\n",
    "                    output_indices=clear_labels(train_inds[j]))\n",
    "    dcs.append(experiment.get_duty_cycles())\n",
    "    "
   ]
  },
  {
   "cell_type": "code",
   "execution_count": 58,
   "metadata": {},
   "outputs": [
    {
     "data": {
      "text/plain": [
       "76.54899999999999"
      ]
     },
     "execution_count": 58,
     "metadata": {},
     "output_type": "execute_result"
    }
   ],
   "source": [
    "experiment.get_auc()"
   ]
  },
  {
   "cell_type": "code",
   "execution_count": 59,
   "metadata": {},
   "outputs": [
    {
     "data": {
      "text/plain": [
       "<matplotlib.image.AxesImage at 0x7f958a6ef350>"
      ]
     },
     "execution_count": 59,
     "metadata": {},
     "output_type": "execute_result"
    },
    {
     "data": {
      "image/png": "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\n",
      "text/plain": [
       "<Figure size 432x288 with 1 Axes>"
      ]
     },
     "metadata": {
      "needs_background": "light"
     },
     "output_type": "display_data"
    }
   ],
   "source": [
    "fc = experiment.get_forgetting_curve()\n",
    "plt.imshow(fc)"
   ]
  },
  {
   "cell_type": "code",
   "execution_count": 60,
   "metadata": {},
   "outputs": [
    {
     "data": {
      "image/png": "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\n",
      "text/plain": [
       "<Figure size 432x288 with 1 Axes>"
      ]
     },
     "metadata": {
      "needs_background": "light"
     },
     "output_type": "display_data"
    }
   ],
   "source": [
    "plt.plot(fc,'o');"
   ]
  },
  {
   "cell_type": "code",
   "execution_count": 18,
   "metadata": {},
   "outputs": [
    {
     "data": {
      "text/plain": [
       "[<matplotlib.lines.Line2D at 0x7f958abd7a50>]"
      ]
     },
     "execution_count": 18,
     "metadata": {},
     "output_type": "execute_result"
    },
    {
     "data": {
      "image/png": "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\n",
      "text/plain": [
       "<Figure size 432x288 with 1 Axes>"
      ]
     },
     "metadata": {
      "needs_background": "light"
     },
     "output_type": "display_data"
    }
   ],
   "source": [
    "a = torch.squeeze(dcs[0][\"linear1_kwinners\"]).cpu().numpy()\n",
    "b = torch.squeeze(dcs[4][\"linear1_kwinners\"]).cpu().numpy()\n",
    "plt.plot(a,b,'.')"
   ]
  },
  {
   "cell_type": "code",
   "execution_count": 11,
   "metadata": {},
   "outputs": [],
   "source": [
    "def get_dcs(dcs, epoch):\n",
    "    keys, vals = list(dcs[epoch].keys()), list(dcs[epoch].values())\n",
    "    def squeeze_and_transfer(x):\n",
    "        return torch.squeeze(x).cpu().numpy()\n",
    "    \n",
    "    return {keys[k]: squeeze_and_transfer(vals[k]) for k in range(len(keys))}"
   ]
  },
  {
   "cell_type": "code",
   "execution_count": 22,
   "metadata": {},
   "outputs": [
    {
     "data": {
      "text/plain": [
       "<matplotlib.axes._subplots.AxesSubplot at 0x7f958aa18c50>"
      ]
     },
     "execution_count": 22,
     "metadata": {},
     "output_type": "execute_result"
    },
    {
     "data": {
      "image/png": "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\n",
      "text/plain": [
       "<Figure size 432x288 with 1 Axes>"
      ]
     },
     "metadata": {
      "needs_background": "light"
     },
     "output_type": "display_data"
    }
   ],
   "source": [
    "sns.distplot(get_dcs(dcs, 1)[\"cnn2_kwinner\"], kde=True)\n",
    "sns.distplot(get_dcs(dcs, 4)[\"cnn2_kwinner\"], kde=True)\n"
   ]
  },
  {
   "cell_type": "code",
   "execution_count": 20,
   "metadata": {},
   "outputs": [
    {
     "data": {
      "text/plain": [
       "[<matplotlib.lines.Line2D at 0x7f958aad8310>]"
      ]
     },
     "execution_count": 20,
     "metadata": {},
     "output_type": "execute_result"
    },
    {
     "data": {
      "image/png": "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\n",
      "text/plain": [
       "<Figure size 432x288 with 1 Axes>"
      ]
     },
     "metadata": {
      "needs_background": "light"
     },
     "output_type": "display_data"
    }
   ],
   "source": [
    "plt.plot(get_dcs(dcs,4)[\"cnn1_kwinner\"], get_dcs(dcs,3)[\"cnn1_kwinner\"],'.')"
   ]
  },
  {
   "cell_type": "code",
   "execution_count": 7,
   "metadata": {},
   "outputs": [],
   "source": [
    "a =np.vstack(experiment.running_accuracy)"
   ]
  },
  {
   "cell_type": "code",
   "execution_count": 8,
   "metadata": {},
   "outputs": [
    {
     "data": {
      "image/png": "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\n",
      "text/plain": [
       "<Figure size 432x288 with 2 Axes>"
      ]
     },
     "metadata": {
      "needs_background": "light"
     },
     "output_type": "display_data"
    }
   ],
   "source": [
    "plt.imshow(a)\n",
    "plt.colorbar();"
   ]
  },
  {
   "cell_type": "code",
   "execution_count": null,
   "metadata": {},
   "outputs": [],
   "source": [
    "83, 75, 78"
   ]
  },
  {
   "cell_type": "code",
   "execution_count": null,
   "metadata": {},
   "outputs": [],
   "source": [
    "80, 73"
   ]
  },
  {
   "cell_type": "code",
   "execution_count": null,
   "metadata": {},
   "outputs": [],
   "source": [
    "experiment.train_entire_dataset(1)\n",
    "experiment.test()"
   ]
  },
  {
   "cell_type": "code",
   "execution_count": null,
   "metadata": {},
   "outputs": [],
   "source": []
  },
  {
   "cell_type": "code",
   "execution_count": 6,
   "metadata": {},
   "outputs": [],
   "source": [
    "a =np.vstack(experiment.running_accuracy)"
   ]
  },
  {
   "cell_type": "code",
   "execution_count": 10,
   "metadata": {},
   "outputs": [
    {
     "data": {
      "image/png": "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\n",
      "text/plain": [
       "<Figure size 432x288 with 2 Axes>"
      ]
     },
     "metadata": {
      "needs_background": "light"
     },
     "output_type": "display_data"
    }
   ],
   "source": [
    "plt.imshow(a)\n",
    "plt.colorbar();"
   ]
  },
  {
   "cell_type": "code",
   "execution_count": 8,
   "metadata": {},
   "outputs": [],
   "source": [
    "b = np.vstack([np.roll(a[i,:], 8-2*i) for i in range(a.shape[0])])"
   ]
  },
  {
   "cell_type": "code",
   "execution_count": 9,
   "metadata": {},
   "outputs": [
    {
     "data": {
      "text/plain": [
       "[<matplotlib.lines.Line2D at 0x7f0f21d56710>,\n",
       " <matplotlib.lines.Line2D at 0x7f0f21d56350>,\n",
       " <matplotlib.lines.Line2D at 0x7f0f21d562d0>,\n",
       " <matplotlib.lines.Line2D at 0x7f0f21d56650>,\n",
       " <matplotlib.lines.Line2D at 0x7f0f21d56410>]"
      ]
     },
     "execution_count": 9,
     "metadata": {},
     "output_type": "execute_result"
    },
    {
     "data": {
      "image/png": "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\n",
      "text/plain": [
       "<Figure size 432x288 with 1 Axes>"
      ]
     },
     "metadata": {
      "needs_background": "light"
     },
     "output_type": "display_data"
    }
   ],
   "source": [
    "plt.plot(b.T,'o')"
   ]
  },
  {
   "cell_type": "code",
   "execution_count": 3,
   "metadata": {},
   "outputs": [
    {
     "data": {
      "text/plain": [
       "LeSparseNet(\n",
       "  (cnn1_cnn): SparseWeights2d(\n",
       "    weight_sparsity=0.3\n",
       "    (module): Conv2d(1, 64, kernel_size=(5, 5), stride=(1, 1))\n",
       "  )\n",
       "  (cnn1_bn): BatchNorm2d(64, eps=1e-05, momentum=0.1, affine=False, track_running_stats=True)\n",
       "  (cnn1_kwinner): KWinners2d(channels=64, local=False, n=0, percent_on=0.25, boost_strength=1.5, boost_strength_factor=0.9, k_inference_factor=1.0, duty_cycle_period=1000)\n",
       "  (cnn1_maxpool): MaxPool2d(kernel_size=2, stride=2, padding=0, dilation=1, ceil_mode=False)\n",
       "  (cnn2_cnn): SparseWeights2d(\n",
       "    weight_sparsity=0.2\n",
       "    (module): Conv2d(64, 64, kernel_size=(5, 5), stride=(1, 1))\n",
       "  )\n",
       "  (cnn2_bn): BatchNorm2d(64, eps=1e-05, momentum=0.1, affine=False, track_running_stats=True)\n",
       "  (cnn2_kwinner): KWinners2d(channels=64, local=False, n=0, percent_on=0.125, boost_strength=1.5, boost_strength_factor=0.9, k_inference_factor=1.0, duty_cycle_period=1000)\n",
       "  (cnn2_maxpool): MaxPool2d(kernel_size=2, stride=2, padding=0, dilation=1, ceil_mode=False)\n",
       "  (flatten): Flatten()\n",
       "  (linear1): SparseWeights(\n",
       "    weight_sparsity=0.1\n",
       "    (module): Linear(in_features=1600, out_features=2048, bias=True)\n",
       "  )\n",
       "  (linear1_bn): BatchNorm1d(2048, eps=1e-05, momentum=0.1, affine=False, track_running_stats=True)\n",
       "  (linear1_kwinners): KWinners(n=2048, percent_on=0.1, boost_strength=1.5, boost_strength_factor=0.9, k_inference_factor=1.0, duty_cycle_period=1000)\n",
       "  (linear2): SparseWeights(\n",
       "    weight_sparsity=0.2\n",
       "    (module): Linear(in_features=2048, out_features=11, bias=True)\n",
       "  )\n",
       "  (linear2_bn): BatchNorm1d(11, eps=1e-05, momentum=0.1, affine=False, track_running_stats=True)\n",
       "  (linear2_kwinners): KWinners(n=11, percent_on=0.2, boost_strength=1.5, boost_strength_factor=0.9, k_inference_factor=1.0, duty_cycle_period=1000)\n",
       "  (softmax): LogSoftmax()\n",
       ")"
      ]
     },
     "execution_count": 3,
     "metadata": {},
     "output_type": "execute_result"
    }
   ],
   "source": [
    "experiment.model"
   ]
  },
  {
   "cell_type": "code",
   "execution_count": 4,
   "metadata": {},
   "outputs": [],
   "source": [
    "import numpy as np\n",
    "import torch\n",
    "import torch.nn.functional as F\n",
    "from torch import nn\n",
    "\n",
    "import abc\n",
    "\n",
    "from nupic.torch.modules import SparseWeights# , KWinnersBase, KWinners\n"
   ]
  },
  {
   "cell_type": "code",
   "execution_count": 11,
   "metadata": {},
   "outputs": [
    {
     "data": {
      "text/plain": [
       "3.0"
      ]
     },
     "execution_count": 11,
     "metadata": {},
     "output_type": "execute_result"
    }
   ],
   "source": [
    "np.log2(8)"
   ]
  },
  {
   "cell_type": "code",
   "execution_count": null,
   "metadata": {},
   "outputs": [],
   "source": []
  }
 ],
 "metadata": {
  "kernelspec": {
   "display_name": "Python 3",
   "language": "python",
   "name": "python3"
  },
  "language_info": {
   "codemirror_mode": {
    "name": "ipython",
    "version": 3
   },
   "file_extension": ".py",
   "mimetype": "text/x-python",
   "name": "python",
   "nbconvert_exporter": "python",
   "pygments_lexer": "ipython3",
   "version": "3.7.6"
  }
 },
 "nbformat": 4,
 "nbformat_minor": 4
}
